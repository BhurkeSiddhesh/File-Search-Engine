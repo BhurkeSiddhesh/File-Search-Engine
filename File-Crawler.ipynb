{
 "cells": [
  {
   "cell_type": "markdown",
   "metadata": {},
   "source": [
    "# Test script to find and move files"
   ]
  },
  {
   "cell_type": "code",
   "execution_count": 1,
   "metadata": {},
   "outputs": [],
   "source": [
    "import os"
   ]
  },
  {
   "cell_type": "markdown",
   "metadata": {},
   "source": [
    "Create test files to move"
   ]
  },
  {
   "cell_type": "code",
   "execution_count": 16,
   "metadata": {},
   "outputs": [],
   "source": [
    "cnt = 0\n",
    "\n",
    "for root, dirs, files in os.walk('C:\\\\Users\\\\us43060\\\\Desktop\\\\GitHub\\\\File-Crawler\\\\root'):\n",
    "    file = root + \"\\\\\" + \"test\" + str(cnt) + \".txt\"\n",
    "    with open(file,'w') as f:\n",
    "        f.write('This is a test file.')\n",
    "    cnt += 1"
   ]
  },
  {
   "cell_type": "markdown",
   "metadata": {},
   "source": [
    "Move test files to consolidated folder"
   ]
  },
  {
   "cell_type": "code",
   "execution_count": 17,
   "metadata": {},
   "outputs": [],
   "source": [
    "old_path = 'C:\\\\Users\\\\us43060\\\\Desktop\\\\GitHub\\\\File-Crawler\\\\root'\n",
    "new_path = 'C:\\\\Users\\\\us43060\\\\Desktop\\\\GitHub\\\\File-Crawler\\\\consolidated'\n",
    "rejected = []\n",
    "\n",
    "for root, dirs, file in os.walk(old_path):\n",
    "    for f in file:\n",
    "        old = root + \"\\\\\" + f\n",
    "        new = new_path + \"\\\\\" + f\n",
    "        try:\n",
    "            os.rename(old, new)\n",
    "        except:\n",
    "            rejected.append(new)\n",
    "            continue"
   ]
  },
  {
   "cell_type": "code",
   "execution_count": 18,
   "metadata": {},
   "outputs": [
    {
     "name": "stdout",
     "output_type": "stream",
     "text": [
      "[]\n"
     ]
    }
   ],
   "source": [
    "print(rejected)"
   ]
  }
 ],
 "metadata": {
  "kernelspec": {
   "display_name": "Python 3",
   "language": "python",
   "name": "python3"
  },
  "language_info": {
   "codemirror_mode": {
    "name": "ipython",
    "version": 3
   },
   "file_extension": ".py",
   "mimetype": "text/x-python",
   "name": "python",
   "nbconvert_exporter": "python",
   "pygments_lexer": "ipython3",
   "version": "3.7.3"
  }
 },
 "nbformat": 4,
 "nbformat_minor": 2
}
