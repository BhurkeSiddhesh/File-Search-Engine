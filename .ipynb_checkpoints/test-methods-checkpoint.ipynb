{
 "cells": [
  {
   "cell_type": "code",
   "execution_count": 1,
   "metadata": {},
   "outputs": [],
   "source": [
    "import os\n",
    "import pickle\n",
    "from collections import namedtuple\n",
    "import PySimpleGUI as sg\n",
    "\n",
    "# search variables\n",
    "curr_wd = os.getcwd()\n",
    "index_path = curr_wd + \"\\\\file_index.pkl\"\n",
    "root_path = \"c:\\\\users\\\\us43060\\\\desktop\\\\\"\n",
    "file_index = []\n",
    "search_results = []"
   ]
  },
  {
   "cell_type": "code",
   "execution_count": 2,
   "metadata": {},
   "outputs": [],
   "source": [
    "def index():\n",
    "    ''' crawl through all directories and create a list of files with corresponding paths '''\n",
    "    global file_index\n",
    "    file_index = [file for root, dirs, file in os.walk()]        "
   ]
  },
  {
   "cell_type": "code",
   "execution_count": null,
   "metadata": {},
   "outputs": [],
   "source": []
  }
 ],
 "metadata": {
  "kernelspec": {
   "display_name": "Python 3",
   "language": "python",
   "name": "python3"
  },
  "language_info": {
   "name": ""
  }
 },
 "nbformat": 4,
 "nbformat_minor": 2
}
