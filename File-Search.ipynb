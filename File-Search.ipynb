{
 "cells": [
  {
   "cell_type": "markdown",
   "metadata": {},
   "source": [
    "# File-Search\n",
    "### _file search with partial name match_"
   ]
  },
  {
   "cell_type": "code",
   "execution_count": 1,
   "metadata": {},
   "outputs": [],
   "source": [
    "import os"
   ]
  },
  {
   "cell_type": "markdown",
   "metadata": {},
   "source": [
    "Function to index all files on my computer"
   ]
  },
  {
   "cell_type": "code",
   "execution_count": 2,
   "metadata": {},
   "outputs": [],
   "source": [
    "def index_files():\n",
    "    # create directory of all files on my computer    \n",
    "    file_index = []\n",
    "    \n",
    "    for root, dirs, files in os.walk('C:\\\\'):\n",
    "        file_index.append([root, files])\n",
    "    \n",
    "    return file_index"
   ]
  },
  {
   "cell_type": "markdown",
   "metadata": {},
   "source": [
    "Function to search for a term in the file name"
   ]
  },
  {
   "cell_type": "code",
   "execution_count": 3,
   "metadata": {},
   "outputs": [],
   "source": [
    "def search(term, index):\n",
    "    # find matches to keyword\n",
    "    file_match = []\n",
    "    file_cnt = 0\n",
    "\n",
    "    for root, files in index:\n",
    "        file_cnt += len(files)\n",
    "        for file in files:\n",
    "            if term in file:\n",
    "                file_match.append([root + \"\\\\\" + file])\n",
    "            else:\n",
    "                continue\n",
    "                \n",
    "    return file_match, file_cnt"
   ]
  },
  {
   "cell_type": "markdown",
   "metadata": {},
   "source": [
    "## Find a file on my computer with partial name match"
   ]
  },
  {
   "cell_type": "code",
   "execution_count": 4,
   "metadata": {},
   "outputs": [],
   "source": [
    "index = index_files()"
   ]
  },
  {
   "cell_type": "code",
   "execution_count": 5,
   "metadata": {},
   "outputs": [],
   "source": [
    "results, file_cnt = search('gecko', index)"
   ]
  },
  {
   "cell_type": "code",
   "execution_count": 6,
   "metadata": {},
   "outputs": [
    {
     "name": "stdout",
     "output_type": "stream",
     "text": [
      "\n",
      "809,725 total files searched, with 10 matching results.\n",
      "\n",
      "C:\\Program Files\\Python37\\geckodriver.exe\n",
      "C:\\Users\\us43060\\geckodriver.log\n",
      "C:\\Users\\us43060\\AppData\\Local\\Continuum\\miniconda3\\geckodriver.exe\n",
      "C:\\Users\\us43060\\AppData\\Roaming\\Microsoft\\Windows\\Recent\\geckodriver-v0.24.0-win64(1).zip.lnk\n",
      "C:\\Users\\us43060\\AppData\\Roaming\\Microsoft\\Windows\\Recent\\geckodriver-v0.24.0-win64.zip.lnk\n",
      "C:\\Users\\us43060\\Desktop\\GitHub\\CapIQ-Web-Scraping\\geckodriver.log\n",
      "C:\\Users\\us43060\\Desktop\\GitHub\\Personal\\Timebot\\geckodriver.log\n",
      "C:\\Users\\us43060\\Downloads\\geckodriver-v0.24.0-win64(1).zip\n",
      "C:\\Users\\us43060\\Downloads\\geckodriver-v0.24.0-win64.zip\n",
      "C:\\Windows\\System32\\geckodriver.log\n"
     ]
    }
   ],
   "source": [
    "print()\n",
    "print(f'{file_cnt:,d} total files searched, with {len(results):,d} matching results.')\n",
    "print()\n",
    "for x in results:\n",
    "    print(x[0])"
   ]
  },
  {
   "cell_type": "markdown",
   "metadata": {},
   "source": [
    "## Speed test on file index"
   ]
  },
  {
   "cell_type": "code",
   "execution_count": 7,
   "metadata": {},
   "outputs": [
    {
     "name": "stdout",
     "output_type": "stream",
     "text": [
      "17.6 s ± 79.2 ms per loop (mean ± std. dev. of 7 runs, 1 loop each)\n"
     ]
    }
   ],
   "source": [
    "%%timeit\n",
    "index_files()"
   ]
  }
 ],
 "metadata": {
  "kernelspec": {
   "display_name": "Python 3",
   "language": "python",
   "name": "python3"
  },
  "language_info": {
   "codemirror_mode": {
    "name": "ipython",
    "version": 3
   },
   "file_extension": ".py",
   "mimetype": "text/x-python",
   "name": "python",
   "nbconvert_exporter": "python",
   "pygments_lexer": "ipython3",
   "version": "3.7.3"
  }
 },
 "nbformat": 4,
 "nbformat_minor": 2
}
